{
 "nbformat": 4,
 "nbformat_minor": 0,
 "metadata": {
  "colab": {
   "provenance": [
    {
     "file_id": "1aCuOAFIlHFcflFwDCXeMv-iwH9VmE6jw",
     "timestamp": 1673194103719
    }
   ]
  },
  "kernelspec": {
   "name": "python3",
   "display_name": "Python 3"
  },
  "language_info": {
   "name": "python"
  }
 },
 "cells": [
  {
   "cell_type": "code",
   "execution_count": null,
   "outputs": [],
   "source": [
    "!gcloud dataproc clusters list --region us-central1"
   ],
   "metadata": {
    "pycharm": {
     "name": "#%%\n"
    },
    "id": "Fuqjdx15G6HJ"
   }
  },
  {
   "cell_type": "code",
   "execution_count": null,
   "outputs": [],
   "source": [
    "!pip install -q google-cloud-storage==1.43.0\n",
    "!pip install -q graphframes"
   ],
   "metadata": {
    "pycharm": {
     "name": "#%%\n"
    },
    "id": "iPy_QZl9G6HL"
   }
  },
  {
   "cell_type": "code",
   "execution_count": null,
   "outputs": [],
   "source": [
    "!ls -l /usr/lib/spark/jars/graph*"
   ],
   "metadata": {
    "pycharm": {
     "name": "#%%\n"
    },
    "id": "20oNsu0bG6HM"
   }
  },
  {
   "cell_type": "markdown",
   "source": [
    "# Imports"
   ],
   "metadata": {
    "id": "HAOBCg7xkWUO"
   }
  },
  {
   "cell_type": "code",
   "execution_count": null,
   "metadata": {
    "colab": {
     "base_uri": "https://localhost:8080/"
    },
    "deletable": false,
    "editable": false,
    "executionInfo": {
     "elapsed": 2197,
     "status": "ok",
     "timestamp": 1672832779826,
     "user": {
      "displayName": "Omri Sgan Cohen",
      "userId": "05883219044632245474"
     },
     "user_tz": -120
    },
    "id": "byNgReCYsmA9",
    "nbgrader": {
     "cell_type": "code",
     "checksum": "9a5e34081c68da39370c09ff0ee046f0",
     "grade": false,
     "grade_id": "cell-4bab9532110cc7e3",
     "locked": true,
     "schema_version": 3,
     "solution": false,
     "task": false
    },
    "outputId": "6a052c21-39da-48ba-96c4-3454f61cd018"
   },
   "outputs": [
    {
     "output_type": "stream",
     "name": "stderr",
     "text": [
      "[nltk_data] Downloading package stopwords to /root/nltk_data...\n",
      "[nltk_data]   Unzipping corpora/stopwords.zip.\n"
     ]
    },
    {
     "output_type": "execute_result",
     "data": {
      "text/plain": [
       "True"
      ]
     },
     "metadata": {},
     "execution_count": 1
    }
   ],
   "source": [
    "import sys\n",
    "from collections import Counter, OrderedDict\n",
    "import itertools\n",
    "from itertools import islice, count, groupby\n",
    "import pandas as pd\n",
    "import os\n",
    "import re\n",
    "from operator import itemgetter\n",
    "import nltk\n",
    "from nltk.stem.porter import *\n",
    "from nltk.corpus import stopwords\n",
    "from time import time\n",
    "from timeit import timeit\n",
    "from pathlib import Path\n",
    "import pickle\n",
    "import pandas as pd\n",
    "import numpy as np\n",
    "import math\n",
    "from google.cloud import storage\n",
    "\n",
    "import hashlib\n",
    "def _hash(s):\n",
    "    return hashlib.blake2b(bytes(s, encoding='utf8'), digest_size=5).hexdigest()\n",
    "\n",
    "nltk.download('stopwords')"
   ]
  },
  {
   "cell_type": "markdown",
   "source": [
    "# Spark"
   ],
   "metadata": {
    "id": "UkD8xszYkah0"
   }
  },
  {
   "cell_type": "code",
   "execution_count": null,
   "metadata": {
    "deletable": false,
    "editable": false,
    "id": "BkEErqJnsXyy",
    "nbgrader": {
     "cell_type": "code",
     "checksum": "032f9e425c679e50c3f5c4ea0c8c1a0d",
     "grade": false,
     "grade_id": "cell-eb29d235a981ccf1",
     "locked": true,
     "schema_version": 3,
     "solution": false,
     "task": false
    }
   },
   "outputs": [],
   "source": [
    "import pyspark\n",
    "from pyspark.sql import *\n",
    "from pyspark.sql.functions import *\n",
    "from pyspark import SparkContext, SparkConf,SparkFiles\n",
    "from pyspark.sql import SQLContext\n",
    "from pyspark.ml.feature import Tokenizer, RegexTokenizer\n",
    "from graphframes import *"
   ]
  },
  {
   "cell_type": "code",
   "source": [
    "spark"
   ],
   "metadata": {
    "id": "1hlhd5DBEiWA",
    "executionInfo": {
     "status": "ok",
     "timestamp": 1672832864964,
     "user_tz": -120,
     "elapsed": 1835,
     "user": {
      "displayName": "Omri Sgan Cohen",
      "userId": "05883219044632245474"
     }
    },
    "colab": {
     "base_uri": "https://localhost:8080/",
     "height": 219
    },
    "outputId": "b0712cad-1acd-48ce-db2d-b28e1fa96d74"
   },
   "execution_count": null,
   "outputs": [
    {
     "output_type": "execute_result",
     "data": {
      "text/plain": [
       "<pyspark.sql.session.SparkSession at 0x7f3985000310>"
      ],
      "text/html": [
       "\n",
       "            <div>\n",
       "                <p><b>SparkSession - in-memory</b></p>\n",
       "                \n",
       "        <div>\n",
       "            <p><b>SparkContext</b></p>\n",
       "\n",
       "            <p><a href=\"http://2017ced938a1:4050\">Spark UI</a></p>\n",
       "\n",
       "            <dl>\n",
       "              <dt>Version</dt>\n",
       "                <dd><code>v3.3.1</code></dd>\n",
       "              <dt>Master</dt>\n",
       "                <dd><code>local[*]</code></dd>\n",
       "              <dt>AppName</dt>\n",
       "                <dd><code>pyspark-shell</code></dd>\n",
       "            </dl>\n",
       "        </div>\n",
       "        \n",
       "            </div>\n",
       "        "
      ]
     },
     "metadata": {},
     "execution_count": 5
    }
   ]
  },
  {
   "cell_type": "markdown",
   "source": [
    "# GCP (small corpus from hw3)\n"
   ],
   "metadata": {
    "id": "5kgZRbc6kdUu"
   }
  },
  {
   "cell_type": "code",
   "execution_count": null,
   "outputs": [],
   "source": [
    "# bucket_name = '206201667_316399773_bucket'\n",
    "bucket_name = 'ir-engine-316399773'\n",
    "full_path = f\"gs://{bucket_name}/\"\n",
    "paths=[]\n",
    "\n",
    "client = storage.Client()\n",
    "blobs = client.list_blobs(bucket_name)\n",
    "for b in blobs:\n",
    "    if b.name != 'graphframes.sh' and b.name.endswith('.parquet'):\n",
    "        paths.append(full_path+b.name)"
   ],
   "metadata": {
    "pycharm": {
     "name": "#%%\n"
    },
    "id": "cX6lR19eG6HR"
   }
  },
  {
   "cell_type": "code",
   "execution_count": null,
   "outputs": [],
   "source": [
    "parquetFile = spark.read.parquet(*paths)"
   ],
   "metadata": {
    "pycharm": {
     "name": "#%%\n"
    },
    "id": "gQe8A1xiG6HR"
   }
  },
  {
   "cell_type": "code",
   "execution_count": null,
   "outputs": [],
   "source": [
    "%cd -q /home/dataproc\n",
    "!ls inverted_index_gcp.py"
   ],
   "metadata": {
    "pycharm": {
     "name": "#%%\n"
    },
    "id": "ebVR3IOuG6HS"
   }
  },
  {
   "cell_type": "code",
   "execution_count": null,
   "outputs": [],
   "source": [
    "sc.addFile(\"/home/dataproc/inverted_index_gcp.py\")\n",
    "sys.path.insert(0,SparkFiles.getRootDirectory())"
   ],
   "metadata": {
    "pycharm": {
     "name": "#%%\n"
    },
    "id": "_E54bC8hG6HS"
   }
  },
  {
   "cell_type": "code",
   "source": [
    "# Import MultiFile and InvertedIndex classes\n",
    "from inverted_index_gcp import *"
   ],
   "metadata": {
    "id": "ng0y8ZifkbDa"
   },
   "execution_count": null,
   "outputs": []
  },
  {
   "cell_type": "code",
   "source": [
    "# take the 'text' and 'id' and create an RDD from it\n",
    "doc_text_pairs = parquetFile.select(\"id\", \"text\").rdd\n",
    "\n",
    "# take the 'title' and 'id' and create an RDD from it\n",
    "doc_title_pairs = parquetFile.select(\"id\", \"title\").rdd\n",
    "\n",
    "# take the 'anchor_text' and 'id' and create an RDD from it\n",
    "doc_anchor_pairs = parquetFile.select(\"id\", \"anchor_text\").rdd"
   ],
   "metadata": {
    "id": "8rYkPT87i5W2"
   },
   "execution_count": null,
   "outputs": []
  },
  {
   "cell_type": "code",
   "source": [
    "# When we look at the anchor text part, at the next stage we would want to count the terms' frequencies \n",
    "# according to the documents they are pointing to.\n",
    "\n",
    "pointed_doc_anchor_pairs = doc_anchor_pairs.flatMap(\n",
    "    lambda anchor_pair: anchor_pair[1]).groupByKey().mapValues(list).map(\n",
    "        lambda pointed_anchor_pair: (\n",
    "            pointed_anchor_pair[0], \" \".join([word for word in pointed_anchor_pair[1]])))\n"
   ],
   "metadata": {
    "id": "IGEDxnlLyG26"
   },
   "execution_count": null,
   "outputs": []
  },
  {
   "cell_type": "code",
   "execution_count": null,
   "outputs": [],
   "source": [
    "english_stopwords = frozenset(stopwords.words('english'))\n",
    "corpus_stopwords = [\"category\", \"references\", \"also\", \"external\", \"links\",\n",
    "                    \"may\", \"first\", \"see\", \"history\", \"people\", \"one\", \"two\",\n",
    "                    \"part\", \"thumb\", \"including\", \"second\", \"following\",\n",
    "                    \"many\", \"however\", \"would\", \"became\"]\n",
    "\n",
    "RE_WORD = re.compile(r\"\"\"[\\#\\@\\w](['\\-]?\\w){2,24}\"\"\", re.UNICODE)\n",
    "\n",
    "all_stopwords = english_stopwords.union(corpus_stopwords)\n"
   ],
   "metadata": {
    "pycharm": {
     "name": "#%%\n"
    },
    "id": "JojroNkNNdDe"
   }
  },
  {
   "cell_type": "code",
   "execution_count": null,
   "outputs": [],
   "source": [
    "def tokenize(text, without_stopwords):\n",
    "    tokens = [token.group() for token in RE_WORD.finditer(text.lower())]\n",
    "    if without_stopwords:\n",
    "      tokens = [tok for tok in tokens if tok not in all_stopwords]\n",
    "    return tokens"
   ],
   "metadata": {
    "pycharm": {
     "name": "#%%\n"
    },
    "id": "N606MXTDNdDf"
   }
  },
  {
   "cell_type": "code",
   "execution_count": null,
   "metadata": {
    "deletable": false,
    "id": "9GmPedzexLyt",
    "nbgrader": {
     "cell_type": "code",
     "checksum": "27318e0e7bdcd4384f38fbce1f52996a",
     "grade": false,
     "grade_id": "cell-6b21d53c0afef4f6",
     "locked": false,
     "schema_version": 3,
     "solution": true,
     "task": false
    }
   },
   "outputs": [],
   "source": [
    "def word_count(doc_part, id, without_stopwords):\n",
    "  ''' Count the frequency of each word in a document part (text/title/anchor text) (tf) that is not included in \n",
    "  `all_stopwords` and return entries that will go into our posting lists. \n",
    "  Parameters:\n",
    "  -----------\n",
    "    doc_part: str\n",
    "      Text of part of one document\n",
    "    id: int\n",
    "      Document id \n",
    "  Returns:\n",
    "  --------\n",
    "    List of tuples\n",
    "      A list of (token, (doc_id, tf)) pairs \n",
    "      for example: [(\"Anarchism\", (12, 5)), ...]\n",
    "  '''\n",
    "  tokens = tokenize(doc_part, without_stopwords)\n",
    "  token_counter = Counter(tokens)\n",
    "  tokens_no_dups = []\n",
    "  for token in tokens:\n",
    "      if token not in tokens_no_dups:\n",
    "        tokens_no_dups.append(token)\n",
    "  return [(token, (id, token_counter[token])) for token in tokens_no_dups]"
   ]
  },
  {
   "cell_type": "code",
   "execution_count": null,
   "metadata": {
    "deletable": false,
    "id": "1yFhHQBZHIBb",
    "nbgrader": {
     "cell_type": "code",
     "checksum": "b8b3d536f304b848874fd48edd59268c",
     "grade": false,
     "grade_id": "cell-78a1517e2ac6a914",
     "locked": false,
     "schema_version": 3,
     "solution": true,
     "task": false
    }
   },
   "outputs": [],
   "source": [
    "def reduce_word_counts(unsorted_pl):\n",
    "  ''' Returns a sorted posting list by wiki_id.\n",
    "  Parameters:\n",
    "  -----------\n",
    "    unsorted_pl: list of tuples\n",
    "      A list of (wiki_id, tf) tuples \n",
    "  Returns:\n",
    "  --------\n",
    "    list of tuples\n",
    "      A sorted posting list.\n",
    "  '''\n",
    "  return sorted(unsorted_pl, key=lambda tup: tup[0])"
   ]
  },
  {
   "cell_type": "code",
   "execution_count": null,
   "metadata": {
    "deletable": false,
    "id": "J_-UoG2CGj4o",
    "nbgrader": {
     "cell_type": "code",
     "checksum": "795721521242afd06958773d307bc60a",
     "grade": false,
     "grade_id": "cell-6c7774baf403e8e7",
     "locked": false,
     "schema_version": 3,
     "solution": true,
     "task": false
    }
   },
   "outputs": [],
   "source": [
    "def calculate_df(postings):\n",
    "  ''' Takes a posting list RDD and calculate the df for each token.\n",
    "  Parameters:\n",
    "  -----------\n",
    "    postings: RDD\n",
    "      An RDD where each element is a (token, posting_list) pair.\n",
    "  Returns:\n",
    "  --------\n",
    "    RDD\n",
    "      An RDD where each element is a (token, df) pair.\n",
    "  '''\n",
    "  # YOUR CODE HERE\n",
    "  # len(pl[1]) calculates df because in a posting list we have a list of documents the token is in.\n",
    "  return postings.map(lambda pl: (pl[0], len(pl[1])))"
   ]
  },
  {
   "cell_type": "code",
   "source": [
    "def calculate_doclen(doc_id, doc_part, without_stopwords):\n",
    "  ''' For each document part (text/title-anchor) calculate its length (number of tokens).\n",
    "  Parameters:\n",
    "  -----------\n",
    "    doc_part: str\n",
    "      Text of part of one document (text/title/anchor)\n",
    "    id: int\n",
    "      Document id \n",
    " Returns:\n",
    "  --------\n",
    "   Tuple\n",
    "      (token, doclen) pair\n",
    "  '''\n",
    "  tokens = tokenize(doc_part,without_stopwords)\n",
    "  return (doc_id, len(tokens))"
   ],
   "metadata": {
    "id": "tLuAr_RPUZIt"
   },
   "execution_count": null,
   "outputs": []
  },
  {
   "cell_type": "code",
   "execution_count": null,
   "metadata": {
    "deletable": false,
    "id": "MvZDJk0bu9V9",
    "nbgrader": {
     "cell_type": "code",
     "checksum": "a3aaab30238939a14be6a58056ed3000",
     "grade": false,
     "grade_id": "cell-e85a52ed1c96897a",
     "locked": false,
     "schema_version": 3,
     "solution": true,
     "task": false
    }
   },
   "outputs": [],
   "source": [
    "NUM_BUCKETS = 124   # todo: check about different number of buckets for GCP\n",
    "def token2bucket_id(token):\n",
    "  return int(_hash(token),16) % NUM_BUCKETS\n",
    "\n",
    "\n",
    "def partition_postings_and_write(postings, storage_path):\n",
    "  ''' A function that partitions the posting lists into buckets, writes out \n",
    "  all posting lists in a bucket to disk, and returns the posting locations for \n",
    "  each bucket. Partitioning should be done through the use of `token2bucket` \n",
    "  above. Writing to disk should use the function  `write_a_posting_list`, a \n",
    "  static method implemented in inverted_index_colab.py under the InvertedIndex \n",
    "  class. \n",
    "  Parameters:\n",
    "  -----------\n",
    "    postings: RDD\n",
    "      An RDD where each item is a (w, posting_list) pair.\n",
    "    offset: int\n",
    "      The bucket number to start writing from.\n",
    "  Returns:\n",
    "  --------\n",
    "    RDD\n",
    "      An RDD where each item is a posting locations dictionary for a bucket. The\n",
    "      posting locations maintain a list for each word of file locations and \n",
    "      offsets its posting list was written to. See `write_a_posting_list` for \n",
    "      more details.\n",
    "  '''\n",
    "  # YOUR CODE HERE\n",
    "  pl_to_buckets = postings.map(lambda pl: (token2bucket_id(pl[0]), (pl[0], pl[1])))\n",
    "  buckets_val_one_list = pl_to_buckets.groupByKey().mapValues(list)\n",
    "  buckets_locs = buckets_val_one_list.map(lambda bucket_pl: InvertedIndex.write_a_posting_list(bucket_pl, bucket_name, storage_path))\n",
    "  return buckets_locs\n",
    "\n"
   ]
  },
  {
   "cell_type": "code",
   "execution_count": null,
   "outputs": [],
   "source": [
    "threshold = 50\n",
    "idx_id = 0\n",
    "idx_value = 1"
   ],
   "metadata": {
    "pycharm": {
     "name": "#%%\n"
    },
    "id": "1J-8kTd_NdDh"
   }
  },
  {
   "cell_type": "markdown",
   "source": [
    "# build index for Title:"
   ],
   "metadata": {
    "collapsed": false,
    "pycharm": {
     "name": "#%% md\n"
    },
    "id": "PRzMYiZTNdDi"
   }
  },
  {
   "cell_type": "code",
   "execution_count": null,
   "outputs": [],
   "source": [
    "word_counts_title = doc_title_pairs.flatMap(lambda pair: word_count(pair[1], pair[0], False))\n",
    "postings_title = word_counts_title.groupByKey().mapValues(reduce_word_counts)\n",
    "#postings_title_filtered = postings_title.filter(lambda x: len(x[1])> threshold)\n",
    "w2df_title = calculate_df(postings_title)\n",
    "w2df_title_dict = w2df_title.collectAsMap()\n",
    "doclen_title = doc_title_pairs.map(lambda pair: calculate_doclen(pair[idx_id], pair[idx_value], False)).collectAsMap()\n",
    "posting_locs_list_title = partition_postings_and_write(postings_title, \"index_title\").collect()"
   ],
   "metadata": {
    "pycharm": {
     "name": "#%%\n"
    },
    "id": "Nz278LzfNdDi"
   }
  },
  {
   "cell_type": "markdown",
   "source": [
    "# build index for Body:"
   ],
   "metadata": {
    "collapsed": false,
    "pycharm": {
     "name": "#%% md\n"
    },
    "id": "L3E9GQq9NdDj"
   }
  },
  {
   "cell_type": "code",
   "execution_count": null,
   "outputs": [],
   "source": [
    "word_counts_text = doc_text_pairs.flatMap(lambda pair: word_count(pair[1], pair[0], True))\n",
    "postings_text = word_counts_text.groupByKey().mapValues(reduce_word_counts)\n",
    "postings_text_filtered = postings_text.filter(lambda x: len(x[1])> threshold)\n",
    "w2df_text = calculate_df(postings_text_filtered)\n",
    "w2df_text_dict = w2df_text.collectAsMap()\n",
    "doclen_text = doc_text_pairs.map(lambda pair: calculate_doclen(pair[idx_id], pair[idx_value], True)).collectAsMap()\n",
    "posting_locs_list_text = partition_postings_and_write(postings_text_filtered, \"index_body\").collect()"
   ],
   "metadata": {
    "pycharm": {
     "name": "#%%\n"
    },
    "id": "_MEdjd14NdDj"
   }
  },
  {
   "cell_type": "markdown",
   "source": [
    "# build index for Anchor:"
   ],
   "metadata": {
    "collapsed": false,
    "pycharm": {
     "name": "#%% md\n"
    },
    "id": "gCnXaIIvNdDk"
   }
  },
  {
   "cell_type": "code",
   "execution_count": null,
   "outputs": [],
   "source": [
    "word_counts_anchor = pointed_doc_anchor_pairs.flatMap(lambda pair: word_count(pair[1], pair[0], False))\n",
    "postings_anchor = word_counts_anchor.groupByKey().mapValues(reduce_word_counts)\n",
    "#postings_anchor.filter(lambda x: len(x[1])> threshold)\n",
    "w2df_anchor = calculate_df(postings_anchor)\n",
    "w2df_anchor_dict = w2df_anchor.collectAsMap()\n",
    "doclen_anchor = pointed_doc_anchor_pairs.map(lambda pair: calculate_doclen(pair[idx_id], pair[idx_value], True)).collectAsMap()\n",
    "posting_locs_list_anchor = partition_postings_and_write(postings_anchor, \"index_anchor\").collect()\n"
   ],
   "metadata": {
    "pycharm": {
     "name": "#%%\n"
    },
    "id": "c9deEfSMNdDk"
   }
  },
  {
   "cell_type": "code",
   "execution_count": null,
   "outputs": [],
   "source": [
    "def build_super_posting_loc(posting_locs_list, prefix):\n",
    "  # merge the posting locations into a single dict\n",
    "  super_posting_locs_title = defaultdict(list)\n",
    "  for blob in client.list_blobs(bucket_name, prefix=prefix):\n",
    "    if not blob.name.endswith(\"pickle\"):\n",
    "      continue\n",
    "    with blob.open(\"rb\") as f:\n",
    "      posting_locs = pickle.load(f)\n",
    "      for k, v in posting_locs.items():\n",
    "        super_posting_locs_title[k].extend(v)\n",
    "  return super_posting_locs_title"
   ],
   "metadata": {
    "pycharm": {
     "name": "#%%\n"
    },
    "id": "SSJYt8g3NdDk"
   }
  },
  {
   "cell_type": "code",
   "source": [
    "super_posting_locs_text = build_super_posting_loc(posting_locs_list_text, 'postings_gcp/index_body')"
   ],
   "metadata": {
    "id": "eUlXBAjGiAh4"
   },
   "execution_count": null,
   "outputs": []
  },
  {
   "cell_type": "code",
   "source": [
    "super_posting_locs_title = build_super_posting_loc(posting_locs_list_title, 'postings_gcp/index_title')"
   ],
   "metadata": {
    "id": "FkwhJMopiEBe"
   },
   "execution_count": null,
   "outputs": []
  },
  {
   "cell_type": "code",
   "source": [
    "super_posting_locs_anchor = build_super_posting_loc(posting_locs_list_anchor, 'postings_gcp/index_anchor')\n"
   ],
   "metadata": {
    "id": "KkuzZMtAiDFl"
   },
   "execution_count": null,
   "outputs": []
  },
  {
   "cell_type": "code",
   "source": [
    "def create_tokens_counter_for_one_doc(curr_pair, without_stopwords):\n",
    "      part_to_token = curr_pair[1]\n",
    "      tokens = tokenize(part_to_token, without_stopwords)\n",
    "      counter_of_tokens = Counter(tokens)\n",
    "      doc_id = curr_pair[0]\n",
    "      return (doc_id, counter_of_tokens)\n"
   ],
   "metadata": {
    "id": "e5jD3vFiBF-p"
   },
   "execution_count": null,
   "outputs": []
  },
  {
   "cell_type": "code",
   "source": [
    "def build_index_by_part(part):\n",
    "    '''Putting everything together (posting locations, df) and test that the resulting index is correct.'''\n",
    "    inv_index = InvertedIndex()  # Create inverted index instance\n",
    "    # Adding the posting locations dictionary to the inverted index\n",
    "    # Add the token - df dictionary to the inverted index\n",
    "    # add doclen field to inverted index instance\n",
    "    \n",
    "    # Add dictionary of (doc_id, title) pairs as a \"connector\" between text parts and title parts of documents.\n",
    "    inv_index.doc_id_title = doc_title_pairs.collectAsMap()\n",
    "    #inv_index.voc_size = len(inv_index.term_total)\n",
    "\n",
    "    path_name = \"\"\n",
    "    if part == 'text':  \n",
    "        inv_index.posting_locs = super_posting_locs_text\n",
    "        inv_index.df = w2df_text_dict\n",
    "        inv_index.doclen = doclen_text\n",
    "        doc_id_to_token_counter_text = doc_text_pairs.map(lambda pair: create_tokens_counter_for_one_doc(pair, True))\n",
    "\n",
    "        inv_index.doc_id_2_norm = doc_id_to_norm_text\n",
    "        path_name = 'index_body'\n",
    "        inv_index.write_index('.', 'index_body')\n",
    "\n",
    "    elif part == 'title':\n",
    "        inv_index.posting_locs = super_posting_locs_title\n",
    "        inv_index.df = w2df_title_dict\n",
    "        inv_index.doclen = doclen_title\n",
    "        n_docs = len(doclen_title)\n",
    "        doc_id_to_token_counter_title = doc_title_pairs.map(lambda pair: create_tokens_counter_for_one_doc(pair, True))\n",
    "        doc_id_to_norm_title = doc_id_to_token_counter_title.map(lambda pair: (pair[0],np.linalg.norm([(pair[1][term]/ doclen_title[pair[0]]) * math.log(n_docs/w2df_title_dict.get(term, n_docs),10)for term in pair[1]]))).collectAsMap()\n",
    "        inv_index.doc_id_2_norm = doc_id_to_norm_title\n",
    "        path_name = 'index_title'\n",
    "        inv_index.write_index('.', 'index_title')\n",
    "\n",
    "    elif part == 'anchor':\n",
    "        inv_index.posting_locs = super_posting_locs_anchor\n",
    "        inv_index.df = w2df_anchor_dict\n",
    "        inv_index.doclen = doclen_anchor\n",
    "        doc_id_to_token_counter_anchor = pointed_doc_anchor_pairs.map(lambda pair: create_tokens_counter_for_one_doc(pair, True))\n",
    "        # exeception divided by zero -> need to remove anchor with no len (dont have pls for this document)\n",
    "        not_zero = lambda anchor: inv_index.doclen[anchor[0]] != 0\n",
    "        n_docs = len(doclen_anchor)\n",
    "        docid_2_token_counter_without0 = doc_id_to_token_counter_anchor.filter(not_zero)\n",
    "        # doc_id_to_norm_anchor = docid_2_token_counter_without0.map(lambda pair: (pair[0],calculate_document_norm(pair, inv_index.doclen, w2df_anchor_dict))).collectAsMap()\n",
    "        doc_id_to_norm_anchor = docid_2_token_counter_without0.map(lambda pair: (pair[0],np.linalg.norm([(pair[1][term]/ doclen_anchor.get(pair[0],1)) * math.log(n_docs/w2df_anchor_dict.get(term, n_docs),10)for term in pair[1]]))).collectAsMap()\n",
    "        inv_index.doc_id_2_norm = doc_id_to_norm_anchor\n",
    "        path_name = 'index_anchor'\n",
    "        inv_index.write_index('.', 'index_anchor')\n",
    "\n",
    "    \n",
    "    # Upload the index to the GCP\n",
    "    index_source = path_name +\".pkl\"\n",
    "    index_dest = f'gs://{bucket_name}/postings_gcp/{path_name}/{index_source}'\n",
    "    !gsutil cp $index_source $index_dest\n",
    "    \n",
    "    return inv_index"
   ],
   "metadata": {
    "id": "XE4-qYIFsjjs"
   },
   "execution_count": null,
   "outputs": []
  },
  {
   "cell_type": "code",
   "execution_count": null,
   "outputs": [],
   "source": [
    "text_inverted_index = build_index_by_part('text')"
   ],
   "metadata": {
    "pycharm": {
     "name": "#%%\n"
    },
    "id": "V0irMOJiG6Hc"
   }
  },
  {
   "cell_type": "code",
   "execution_count": null,
   "outputs": [],
   "source": [
    "title_inverted_index = build_index_by_part('title')"
   ],
   "metadata": {
    "pycharm": {
     "name": "#%%\n"
    },
    "id": "uzn6YzVFG6Hc"
   }
  },
  {
   "cell_type": "code",
   "execution_count": null,
   "outputs": [],
   "source": [
    "anchor_inverted_index = build_index_by_part('anchor')"
   ],
   "metadata": {
    "pycharm": {
     "name": "#%%\n"
    },
    "id": "ObXuH7WMG6Hc"
   }
  }
 ]
}